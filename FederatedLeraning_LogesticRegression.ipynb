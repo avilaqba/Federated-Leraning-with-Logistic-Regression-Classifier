{
 "cells": [
  {
   "cell_type": "markdown",
   "metadata": {},
   "source": [
    "## Federated Leraning with logistic regression classifier"
   ]
  },
  {
   "cell_type": "code",
   "execution_count": 1,
   "metadata": {},
   "outputs": [],
   "source": [
    "import numpy as np\n",
    "import pandas as pd\n",
    "import warnings\n",
    "warnings.filterwarnings('ignore')"
   ]
  },
  {
   "cell_type": "code",
   "execution_count": 2,
   "metadata": {},
   "outputs": [],
   "source": [
    "# Load the data\n",
    "def parse_into_clients():\n",
    "\n",
    "    data = np.load('mnist_data.npy')\n",
    "    labels = np.load('mnist_labels.npy')\n",
    "    local_datasets_data  = []\n",
    "    local_datasets_label = []\n",
    "    \n",
    "    for i in range(20):\n",
    "        local_datasets_data.append(np.copy(data[i*703:(i+1)*703]))\n",
    "        local_datasets_label.append(np.copy(labels[i*703:(i+1)*703]))\n",
    "    \n",
    "    test_data = np.copy(data[14060:])  \n",
    "    test_labels = np.copy(labels[14060:])\n",
    "    \n",
    "    return local_datasets_data, local_datasets_label, test_data, test_labels\n",
    "\n",
    "client_data, client_label, test_data, test_label = parse_into_clients()"
   ]
  },
  {
   "cell_type": "code",
   "execution_count": 3,
   "metadata": {},
   "outputs": [],
   "source": [
    "from sklearn.decomposition import PCA\n",
    "\n",
    "def reduce_pca(data, n_pc):   \n",
    "    \n",
    "    pca = PCA(n_components=n_pc)\n",
    "    pca.fit(data)\n",
    "    pc = pca.components_.T\n",
    "    data_r = pca.transform(data)\n",
    "    \n",
    "    return data_r, pc # getting the reduced data and the principle components\n",
    " \n",
    "client_data_r = client_data.copy()\n",
    "pcs = []\n",
    "\n",
    "for i in range(len(client_data_r)):\n",
    "    # applying the reduce_pca on client data\n",
    "    client_data_r[i], pc = reduce_pca(client_data_r[i], 2)\n",
    "    pcs.append(pc) # putting pcs to a list\n",
    "\n",
    "\n",
    "test_data_meaned = test_data - np.mean(test_data , axis = 0) # substracting mean of data from itself\n",
    "pc = np.mean(pcs, axis=0 ) # getting the average of pcs of clients\n",
    "test_data_r = test_data_meaned @ pc # transforming test data using the averaged principle components"
   ]
  },
  {
   "cell_type": "code",
   "execution_count": 4,
   "metadata": {},
   "outputs": [
    {
     "data": {
      "image/png": "[encoded data removed]",
      "text/plain": [
       "<Figure size 432x288 with 1 Axes>"
      ]
     },
     "metadata": {
      "needs_background": "light"
     },
     "output_type": "display_data"
    }
   ],
   "source": [
    "import matplotlib.pyplot as plt\n",
    "\n",
    "for i in client_data_r:\n",
    "    plt.scatter(i[:,0], i[:,1], color = 'b')\n",
    "    \n",
    "plt.scatter(test_data_r[:,0], test_data_r[:,1], color='r')\n",
    "plt.show()"
   ]
  },
  {
   "cell_type": "markdown",
   "metadata": {},
   "source": [
    "####  Note that the scatter plot above shows how the train and test data are scattered in two classes. test data are shown in red."
   ]
  },
  {
   "cell_type": "markdown",
   "metadata": {},
   "source": [
    "### Federating a logistic regression classifier across 20 datasets"
   ]
  },
  {
   "cell_type": "markdown",
   "metadata": {},
   "source": [
    "* implementing the **FederatedAveraging** algorithm introduced in **(https://arxiv.org/pdf/1602.05629.pdf)** \n",
    "* For B = infinity (i.e., each client will be trained on all its local training samples). \n"
   ]
  },
  {
   "cell_type": "code",
   "execution_count": 5,
   "metadata": {},
   "outputs": [],
   "source": [
    "def sigmoid(x):\n",
    "    return 1.0 / (1 + np.exp(-x))\n",
    "\n",
    "def client_update(X, y, w, E):\n",
    "    \n",
    "    X = add_ones(X)\n",
    "    alpha = 1e-2\n",
    "    \n",
    "    for e in range(E):\n",
    "        \n",
    "        s = sigmoid(-y * (X @ w))\n",
    "        grad_w = - X.T @ (s * y)\n",
    "        w = w - alpha * grad_w\n",
    "\n",
    "    return w\n",
    "\n",
    "def add_ones(data): # adds a column of ones to the data\n",
    "    return np.concatenate((np.ones( (len(data), 1) ), data), 1)"
   ]
  },
  {
   "cell_type": "code",
   "execution_count": 6,
   "metadata": {
    "scrolled": true
   },
   "outputs": [],
   "source": [
    "# implementing the psuedo code from the paper\n",
    "def fedavg_server(client_data, client_labels, num_rounds, C, E):\n",
    "    \n",
    "    w = np.random.randn(3, 1) # stocastic initialization\n",
    "    K = len(client_data)\n",
    "    M = max(np.floor(C * K), 1) # number of clients to pick\n",
    "    # looping over number of communications\n",
    "    for r in range(num_rounds):\n",
    "        # random selection of clients\n",
    "        St_index = np.random.choice(range(K), int(M)) \n",
    "        St_clients = [client_data[i] for i in range(K) if i in St_index]\n",
    "        St_labels = [client_labels[i] for i in range(K) if i in St_index]\n",
    "\n",
    "        w_clients = []\n",
    "        for X, y in zip(St_clients, St_labels):\n",
    "            \n",
    "            y.shape = (len(y), 1) # fixing the shape of y from (703,) to (703,1)\n",
    "            w_new = client_update(X, y, w, E) # calling the client to train on its data\n",
    "            w_clients.append(w_new)\n",
    "            \n",
    "        # since n_k is the same for evey client, thus n_k/(n_k*M) = 1/M; \n",
    "        # this means we can use the average of the w_clients list.\n",
    "        w = np.mean(np.array(w_clients), axis=0)\n",
    "        \n",
    "    return w"
   ]
  },
  {
   "cell_type": "code",
   "execution_count": 7,
   "metadata": {},
   "outputs": [],
   "source": [
    "def calc_acuracy(w, X_test, y_test):\n",
    "\n",
    "    y_hat = sigmoid(X_test @ w) # getting the prediction score\n",
    "    y_hat[y_hat > .5] = 1 # getting the correlated class\n",
    "    y_hat[y_hat <=.5] = 0 # getting the correlated class\n",
    "    accuracy = np.sum(y_test == y_hat) / len(y_test) # calculating accuracy\n",
    "    \n",
    "    return accuracy"
   ]
  },
  {
   "cell_type": "code",
   "execution_count": 8,
   "metadata": {},
   "outputs": [],
   "source": [
    "test_data_r = add_ones(test_data_r) # adding the ones column\n",
    "test_label.shape = (len(test_label), 1) # fixing the shape of test_label from (720,) to (720,1)"
   ]
  },
  {
   "cell_type": "code",
   "execution_count": 9,
   "metadata": {
    "scrolled": true
   },
   "outputs": [
    {
     "name": "stdout",
     "output_type": "stream",
     "text": [
      "Accuracy of the model with E=1 is 0.9653\n",
      "Accuracy of the model with E=5 is 0.9972\n",
      "Accuracy of the model with E=10 is 0.9972\n"
     ]
    }
   ],
   "source": [
    "accuracies = []\n",
    "# running the server with different number of epochs\n",
    "for E in [1, 5, 10]:\n",
    "    \n",
    "    w_star = fedavg_server(client_data_r, client_label, num_rounds=1, C=.1, E=E)\n",
    "\n",
    "    accuracy = calc_acuracy(w_star, test_data_r, test_label)\n",
    "    accuracies.append(accuracy)\n",
    "    print('Accuracy of the model with E=%s is %.4f'%(E, accuracy))"
   ]
  },
  {
   "cell_type": "code",
   "execution_count": 10,
   "metadata": {},
   "outputs": [
    {
     "data": {
      "image/png": "[encoded data removed]",
      "text/plain": [
       "<Figure size 432x288 with 1 Axes>"
      ]
     },
     "metadata": {
      "needs_background": "light"
     },
     "output_type": "display_data"
    }
   ],
   "source": [
    "# plotting the accuracies\n",
    "plt.plot([1, 5, 10], accuracies)\n",
    "plt.xlabel('E')\n",
    "plt.ylabel('Accuracy')\n",
    "plt.title('Accuracy vs Number of Local Epochs - Number of Rounds: 1')\n",
    "plt.show()"
   ]
  },
  {
   "cell_type": "markdown",
   "metadata": {},
   "source": [
    "### Discussion\n",
    "Sicne the convergence is really fast, with 2 rounds of communications, we can see that with a single local epoch the overall accuracy is low on the test set. However, with higher number of epochs for each client, it seems that the w approaches to global minia and thus, the accuracy of the model improves.\n",
    "<br><br>\n",
    "\n"
   ]
  }
 ],
 "metadata": {
  "kernelspec": {
   "display_name": "Python 3 (ipykernel)",
   "language": "python",
   "name": "python3"
  },
  "language_info": {
   "codemirror_mode": {
    "name": "ipython",
    "version": 3
   },
   "file_extension": ".py",
   "mimetype": "text/x-python",
   "name": "python",
   "nbconvert_exporter": "python",
   "pygments_lexer": "ipython3",
   "version": "3.9.7"
  }
 },
 "nbformat": 4,
 "nbformat_minor": 2
}
